{
 "cells": [
  {
   "cell_type": "markdown",
   "metadata": {},
   "source": [
    "# Fusion Operation with Instance Norm\n",
    "\n",
    "This notebook shows how to compute an instance Norm (+ add + relu) using the cuDNN python frontend.\n",
    "\n",
    "$$y = \\text{ReLU}\\big(\\text{InstanceNorm(x)}+A\\big) = \\max\\Big(0, \\big(\\frac{x - \\mathbb{E}(x)}{\\sqrt{Var(x)+\\epsilon}}\\cdot \\gamma + \\beta\\big) + A\\Big)$$"
   ]
  },
  {
   "cell_type": "markdown",
   "metadata": {},
   "source": [
    "[![Open In Colab](https://colab.research.google.com/assets/colab-badge.svg)](https://colab.research.google.com/github/NVIDIA/cudnn-frontend/blob/main/samples/python/31_instancenorm_fusion.ipynb)"
   ]
  },
  {
   "cell_type": "markdown",
   "metadata": {},
   "source": [
    "## Prerequisites and Setup\n",
    "This notebook requires an NVIDIA GPU. If `nvidia-smi` fails, go to Runtime -> Change runtime type -> Hardware accelerator and confirm a GPU is selected."
   ]
  },
  {
   "cell_type": "code",
   "execution_count": null,
   "metadata": {},
   "outputs": [],
   "source": [
    "# get_ipython().system('nvidia-smi')"
   ]
  },
  {
   "cell_type": "markdown",
   "metadata": {},
   "source": [
    "If running on Colab, you will need to install the cudnn python interface."
   ]
  },
  {
   "cell_type": "code",
   "execution_count": null,
   "metadata": {},
   "outputs": [],
   "source": [
    "# get_ipython().system('pip install nvidia-cudnn-cu12')\n",
    "# get_ipython().system('pip install nvidia-cudnn-frontend')\n",
    "# get_ipython().system('pip3 install --pre torch --index-url https://download.pytorch.org/whl/nightly/cu128')"
   ]
  },
  {
   "cell_type": "markdown",
   "metadata": {},
   "source": [
    "## Overview"
   ]
  },
  {
   "cell_type": "markdown",
   "metadata": {},
   "source": [
    "In the following, we are going to perform the instance norm with the following batch size, number of channels, spatial dimensions, and some other parameters:"
   ]
  },
  {
   "cell_type": "code",
   "execution_count": null,
   "metadata": {},
   "outputs": [],
   "source": [
    "import cudnn\n",
    "import torch\n",
    "\n",
    "torch.manual_seed(1)\n",
    "assert torch.cuda.is_available()\n",
    "\n",
    "handle = cudnn.create_handle()\n",
    "\n",
    "N, C, H, W = 16, 32, 64, 64\n",
    "dtype = torch.float16\n",
    "# Epsilon is a small number to prevent division by 0.\n",
    "epsilon_value = 1e-5"
   ]
  },
  {
   "cell_type": "markdown",
   "metadata": {},
   "source": [
    "## Using Wrapper"
   ]
  },
  {
   "cell_type": "markdown",
   "metadata": {},
   "source": [
    "This notebook shows how to use the `Graph` wrapper to compute instance norm, add, and ReLU:"
   ]
  },
  {
   "cell_type": "code",
   "execution_count": null,
   "metadata": {},
   "outputs": [],
   "source": [
    "# input tensors\n",
    "x_gpu = torch.randn(N, C, H, W, device=\"cuda\", dtype=dtype).to(\n",
    "    memory_format=torch.channels_last\n",
    ")\n",
    "scale_gpu = torch.randn(1, C, 1, 1, device=\"cuda\").to(memory_format=torch.channels_last)\n",
    "bias_gpu = torch.randn(1, C, 1, 1, device=\"cuda\").to(memory_format=torch.channels_last)\n",
    "eps_cpu = torch.full((1, 1, 1, 1), epsilon_value, dtype=torch.float32, device=\"cpu\")\n",
    "a_gpu = torch.randn(N, C, H, W, device=\"cuda\", dtype=dtype).to(\n",
    "    memory_format=torch.channels_last\n",
    ")\n",
    "\n",
    "# forward pass of instance norm + add + relu using cuDNN graph\n",
    "with cudnn.Graph(\n",
    "    io_data_type=cudnn.data_type.HALF,\n",
    "    intermediate_data_type=cudnn.data_type.FLOAT,\n",
    "    compute_data_type=cudnn.data_type.FLOAT,\n",
    "    inputs=[\n",
    "        \"in_fwd::input\",\n",
    "        \"in_fwd::scale\",\n",
    "        \"in_fwd::bias\",\n",
    "        \"in_fwd::epsilon\",\n",
    "        \"add::b\",\n",
    "    ],\n",
    "    outputs=[\"relu\"],\n",
    ") as fwd_graph:\n",
    "    out, mean, inv_var = fwd_graph.instancenorm(\n",
    "        name=\"in_fwd\",\n",
    "        norm_forward_phase=cudnn.norm_forward_phase.INFERENCE,\n",
    "        input=x_gpu.detach(),\n",
    "        scale=scale_gpu.detach(),\n",
    "        bias=bias_gpu.detach(),\n",
    "        epsilon=eps_cpu,\n",
    "    )\n",
    "    assert mean is None, \"Instance norm in inference mode should return mean=None\"\n",
    "    assert inv_var is None, \"Instance norm in inference mode should return inv_var=None\"\n",
    "    sum_out = fwd_graph.add(a=out, b=a_gpu, name=\"add\")\n",
    "    relu_out = fwd_graph.relu(sum_out, name=\"relu\")\n",
    "    relu_out.set_output(True).set_data_type(dtype).set_name(\"relu\")\n",
    "\n",
    "y_gpu = fwd_graph(x_gpu, scale_gpu, bias_gpu, eps_cpu, a_gpu, handle=handle)"
   ]
  },
  {
   "cell_type": "markdown",
   "metadata": {},
   "source": [
    "Then, we can verify the correctness with PyTorch:"
   ]
  },
  {
   "cell_type": "code",
   "execution_count": null,
   "metadata": {},
   "outputs": [],
   "source": [
    "# PyTorch forward pass, and the stats of this batch\n",
    "out_ref = torch.nn.functional.instance_norm(\n",
    "    x_gpu,\n",
    "    weight=scale_gpu.view(C),\n",
    "    bias=bias_gpu.view(C),\n",
    ")\n",
    "y_ref = torch.relu(out_ref + a_gpu)\n",
    "mask_ref = y_ref > 0.0\n",
    "\n",
    "torch.testing.assert_close(y_gpu, y_ref, atol=5e-3, rtol=3e-3)"
   ]
  },
  {
   "cell_type": "markdown",
   "metadata": {},
   "source": [
    "## Using Python Binding APIs"
   ]
  },
  {
   "cell_type": "markdown",
   "metadata": {},
   "source": [
    "Next, we need to create GPU buffers as input. We use PyTorch tensors here so we can reuse them easily when we calculate reference outputs."
   ]
  },
  {
   "cell_type": "code",
   "execution_count": null,
   "metadata": {},
   "outputs": [],
   "source": [
    "# input tensor memory, initialize them to random numbers\n",
    "x_gpu = torch.randn(N, C, H, W, device=\"cuda\", dtype=dtype, requires_grad=True).to(\n",
    "    memory_format=torch.channels_last\n",
    ")\n",
    "scale_gpu = torch.randn(1, C, 1, 1, device=\"cuda\", requires_grad=True).to(\n",
    "    memory_format=torch.channels_last\n",
    ")\n",
    "bias_gpu = torch.randn(1, C, 1, 1, device=\"cuda\", requires_grad=True).to(\n",
    "    memory_format=torch.channels_last\n",
    ")\n",
    "\n",
    "# set epsilon to epsilon_value, allocate on cpu.\n",
    "eps_cpu = torch.full((1, 1, 1, 1), epsilon_value, dtype=torch.float32, device=\"cpu\")\n",
    "\n",
    "# Create tensors for fusion and intermediate ops\n",
    "a_gpu = torch.randn(N, C, H, W, device=\"cuda\", dtype=dtype).to(\n",
    "    memory_format=torch.channels_last\n",
    ")\n",
    "sum_gpu = torch.empty_like(a_gpu)"
   ]
  },
  {
   "cell_type": "markdown",
   "metadata": {},
   "source": [
    "Create the graph"
   ]
  },
  {
   "cell_type": "code",
   "execution_count": null,
   "metadata": {},
   "outputs": [],
   "source": [
    "# Create the graph\n",
    "graph = cudnn.pygraph(\n",
    "    handle=handle,\n",
    "    intermediate_data_type=cudnn.data_type.FLOAT,\n",
    "    compute_data_type=cudnn.data_type.FLOAT,\n",
    ")\n",
    "\n",
    "# create tensor handles with the graph API\n",
    "x = graph.tensor_like(x_gpu.detach()).set_name(\"X\")\n",
    "scale = graph.tensor_like(scale_gpu.detach()).set_name(\"scale\")\n",
    "bias = graph.tensor_like(bias_gpu.detach()).set_name(\"bias\")\n",
    "epsilon = graph.tensor_like(eps_cpu).set_name(\"epsilon\")\n",
    "a = graph.tensor_like(x).set_name(\"A\")\n",
    "\n",
    "# instance norm + add + relu\n",
    "y, mean, inv_var = graph.instancenorm(\n",
    "    name=\"in_fwd\",\n",
    "    input=x,\n",
    "    norm_forward_phase=cudnn.norm_forward_phase.INFERENCE,\n",
    "    scale=scale,\n",
    "    bias=bias,\n",
    "    epsilon=epsilon,\n",
    ")\n",
    "sum_out = graph.add(y, a, name=\"add\")\n",
    "sum_out.set_name(\"sum\")\n",
    "relu = graph.relu(sum_out)\n",
    "relu.set_name(\"sum\").set_output(True).set_data_type(cudnn.data_type.HALF)\n",
    "\n",
    "# Build the graph\n",
    "graph.build([cudnn.heur_mode.A, cudnn.heur_mode.FALLBACK])"
   ]
  },
  {
   "cell_type": "markdown",
   "metadata": {},
   "source": [
    "Execute the graph"
   ]
  },
  {
   "cell_type": "code",
   "execution_count": null,
   "metadata": {},
   "outputs": [],
   "source": [
    "# prepare buffer for output\n",
    "relu_gpu = torch.empty(N, C, H, W, device=\"cuda\", dtype=dtype).to(\n",
    "    memory_format=torch.channels_last\n",
    ")\n",
    "mask_gpu = torch.empty(N, C, H, W, device=\"cuda\", dtype=torch.bool).to(\n",
    "    memory_format=torch.channels_last\n",
    ")\n",
    "\n",
    "# Mapping of (handles -> memory)\n",
    "variant_pack = {\n",
    "    # input tensors\n",
    "    x: x_gpu,\n",
    "    scale: scale_gpu,\n",
    "    bias: bias_gpu,\n",
    "    epsilon: eps_cpu,\n",
    "    a: a_gpu,\n",
    "    # output tensor\n",
    "    relu: relu_gpu,\n",
    "}\n",
    "workspace = torch.empty(graph.get_workspace_size(), device=\"cuda\", dtype=torch.uint8)\n",
    "graph.execute(variant_pack, workspace)\n",
    "torch.cuda.synchronize()"
   ]
  },
  {
   "cell_type": "markdown",
   "metadata": {},
   "source": [
    "Compute reference ouputs and verify the results"
   ]
  },
  {
   "cell_type": "code",
   "execution_count": null,
   "metadata": {},
   "outputs": [],
   "source": [
    "y_ref = torch.nn.functional.instance_norm(\n",
    "    x_gpu,\n",
    "    weight=scale_gpu.view(C),\n",
    "    bias=bias_gpu.view(C),\n",
    ")\n",
    "relu_ref = torch.nn.functional.relu(y_ref + a_gpu)\n",
    "\n",
    "torch.testing.assert_close(relu_gpu, relu_ref, atol=5e-3, rtol=3e-3)"
   ]
  },
  {
   "cell_type": "markdown",
   "metadata": {},
   "source": [
    "Cleanup"
   ]
  },
  {
   "cell_type": "code",
   "execution_count": null,
   "metadata": {},
   "outputs": [],
   "source": [
    "cudnn.destroy_handle(handle)"
   ]
  }
 ],
 "metadata": {
  "language_info": {
   "name": "python"
  }
 },
 "nbformat": 4,
 "nbformat_minor": 4
}
