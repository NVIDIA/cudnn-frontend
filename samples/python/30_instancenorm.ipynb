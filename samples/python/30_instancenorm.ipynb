{
 "cells": [
  {
   "cell_type": "markdown",
   "metadata": {},
   "source": [
    "# Instance Norm Operation\n",
    "\n",
    "This notebook shows how to compute an instance Norm using the cuDNN python frontend.\n",
    "\n",
    "$$\\text{InstanceNorm(x)} = \\frac{x - \\mathbb{E}(x)}{\\sqrt{Var(x)+\\epsilon}}\\cdot \\gamma + \\beta$$\n"
   ]
  },
  {
   "cell_type": "markdown",
   "metadata": {},
   "source": [
    "[![Open In Colab](https://colab.research.google.com/assets/colab-badge.svg)](https://colab.research.google.com/github/NVIDIA/cudnn-frontend/blob/main/samples/python/30_instancenorm.ipynb)"
   ]
  },
  {
   "cell_type": "markdown",
   "metadata": {},
   "source": [
    "## Prerequisites and Setup\n",
    "This notebook requires an NVIDIA GPU. If `nvidia-smi` fails, go to Runtime -> Change runtime type -> Hardware accelerator and confirm a GPU is selected."
   ]
  },
  {
   "cell_type": "code",
   "execution_count": null,
   "metadata": {},
   "outputs": [],
   "source": [
    "# get_ipython().system('nvidia-smi')"
   ]
  },
  {
   "cell_type": "markdown",
   "metadata": {},
   "source": [
    "If running on Colab, you will need to install the cudnn python interface."
   ]
  },
  {
   "cell_type": "code",
   "execution_count": null,
   "metadata": {},
   "outputs": [],
   "source": [
    "# get_ipython().system('pip install nvidia-cudnn-cu12')\n",
    "# get_ipython().system('pip install nvidia-cudnn-frontend')\n",
    "# get_ipython().system('pip3 install --pre torch --index-url https://download.pytorch.org/whl/nightly/cu128')"
   ]
  },
  {
   "cell_type": "markdown",
   "metadata": {},
   "source": [
    "## Overview"
   ]
  },
  {
   "cell_type": "markdown",
   "metadata": {},
   "source": [
    "In the following, we are going to perform the instance norm forward pass. First we define the batch size, number of channels, spatial dimensions, and some other parameters:"
   ]
  },
  {
   "cell_type": "code",
   "execution_count": null,
   "metadata": {},
   "outputs": [],
   "source": [
    "import cudnn\n",
    "import torch\n",
    "\n",
    "torch.manual_seed(1)\n",
    "assert torch.cuda.is_available()\n",
    "\n",
    "handle = cudnn.create_handle()\n",
    "\n",
    "N, C, H, W = 16, 32, 64, 64\n",
    "dtype = torch.float16\n",
    "# Epsilon is a small number to prevent division by 0.\n",
    "epsilon_value = 1e-5"
   ]
  },
  {
   "cell_type": "markdown",
   "metadata": {},
   "source": [
    "## Using Wrapper"
   ]
  },
  {
   "cell_type": "markdown",
   "metadata": {},
   "source": [
    "Below is how you can use the `Graph` wrapper to perform instance norm with the input tensors in PyTorch format."
   ]
  },
  {
   "cell_type": "code",
   "execution_count": null,
   "metadata": {},
   "outputs": [],
   "source": [
    "x_gpu = torch.randn(N, C, H, W, device=\"cuda\", dtype=dtype).to(\n",
    "    memory_format=torch.channels_last\n",
    ")\n",
    "scale_gpu = torch.randn(1, C, 1, 1, device=\"cuda\").to(memory_format=torch.channels_last)\n",
    "bias_gpu = torch.randn(1, C, 1, 1, device=\"cuda\").to(memory_format=torch.channels_last)\n",
    "eps_cpu = torch.full((1, 1, 1, 1), epsilon_value, dtype=torch.float32, device=\"cpu\")\n",
    "\n",
    "# forward pass of batchnorm using cuDNN graph\n",
    "with cudnn.Graph(\n",
    "    io_data_type=cudnn.data_type.HALF,\n",
    "    intermediate_data_type=cudnn.data_type.FLOAT,\n",
    "    compute_data_type=cudnn.data_type.FLOAT,\n",
    "    inputs=[\"in_fwd::input\", \"in_fwd::scale\", \"in_fwd::bias\", \"in_fwd::epsilon\"],\n",
    "    outputs=[\"out\", \"mean\", \"inv_var\"],\n",
    ") as fwd_graph:\n",
    "    out, mean, inv_var = fwd_graph.instancenorm(\n",
    "        name=\"in_fwd\",\n",
    "        norm_forward_phase=cudnn.norm_forward_phase.TRAINING,\n",
    "        input=x_gpu,\n",
    "        scale=scale_gpu,\n",
    "        bias=bias_gpu,\n",
    "        epsilon=eps_cpu,\n",
    "    )\n",
    "    out.set_output(True).set_data_type(dtype).set_name(\"out\")\n",
    "    mean.set_output(True).set_data_type(dtype).set_name(\"mean\")\n",
    "    inv_var.set_output(True).set_data_type(dtype).set_name(\"inv_var\")\n",
    "\n",
    "out_gpu, mean_gpu, inv_var_gpu = fwd_graph(\n",
    "    x_gpu, scale_gpu, bias_gpu, eps_cpu, handle=handle\n",
    ")"
   ]
  },
  {
   "cell_type": "markdown",
   "metadata": {},
   "source": [
    "You can verify the correctness with PyTorch API:"
   ]
  },
  {
   "cell_type": "code",
   "execution_count": null,
   "metadata": {},
   "outputs": [],
   "source": [
    "# PyTorch forward pass, and the stats of this batch\n",
    "out_ref = torch.nn.functional.instance_norm(\n",
    "    x_gpu,\n",
    "    weight=scale_gpu.view(C),\n",
    "    bias=bias_gpu.view(C),\n",
    ")\n",
    "mean_ref = torch.mean(x_gpu, dim=(2, 3), keepdim=True)\n",
    "inv_var_ref = torch.rsqrt(torch.var(x_gpu, dim=(2, 3), keepdim=True) + epsilon_value)\n",
    "\n",
    "torch.testing.assert_close(out_gpu, out_ref, atol=5e-3, rtol=3e-3)\n",
    "torch.testing.assert_close(mean_gpu, mean_ref, atol=5e-3, rtol=3e-3)\n",
    "torch.testing.assert_close(inv_var_gpu, inv_var_ref, atol=5e-3, rtol=3e-3)"
   ]
  },
  {
   "cell_type": "markdown",
   "metadata": {},
   "source": [
    "## Using Python Binding APIs"
   ]
  },
  {
   "cell_type": "markdown",
   "metadata": {},
   "source": [
    "Create input tensor GPU buffers. We use PyTorch to allocate GPU tensors so we can reuse them easily when we calculate reference outputs."
   ]
  },
  {
   "cell_type": "code",
   "execution_count": null,
   "metadata": {},
   "outputs": [],
   "source": [
    "# input tensor memory, initialize them to random numbers\n",
    "x_gpu = torch.randn(N, C, H, W, device=\"cuda\", dtype=dtype).to(\n",
    "    memory_format=torch.channels_last\n",
    ")\n",
    "scale_gpu = torch.randn(1, C, 1, 1, device=\"cuda\").to(memory_format=torch.channels_last)\n",
    "bias_gpu = torch.randn(1, C, 1, 1, device=\"cuda\").to(memory_format=torch.channels_last)\n",
    "# set epsilon to epsilon_value, allocate on cpu.\n",
    "eps_cpu = torch.full((1, 1, 1, 1), epsilon_value, dtype=torch.float32, device=\"cpu\")"
   ]
  },
  {
   "cell_type": "markdown",
   "metadata": {},
   "source": [
    "Create cuDNN graph and cuDNN tensors"
   ]
  },
  {
   "cell_type": "code",
   "execution_count": null,
   "metadata": {},
   "outputs": [],
   "source": [
    "# Create cuDNN graph\n",
    "graph = cudnn.pygraph(\n",
    "    handle=handle,\n",
    "    intermediate_data_type=cudnn.data_type.FLOAT,\n",
    "    compute_data_type=cudnn.data_type.FLOAT,\n",
    ")\n",
    "\n",
    "# create tensor handles with the graph API\n",
    "x = graph.tensor_like(x_gpu.detach()).set_name(\"X\")\n",
    "scale = graph.tensor_like(scale_gpu.detach()).set_name(\"scale\")\n",
    "bias = graph.tensor_like(bias_gpu.detach()).set_name(\"bias\")\n",
    "epsilon = graph.tensor_like(eps_cpu).set_name(\"epsilon\")\n",
    "\n",
    "out, mean, inv_var = graph.instancenorm(\n",
    "    name=\"instancenorm\",\n",
    "    input=x,\n",
    "    norm_forward_phase=cudnn.norm_forward_phase.TRAINING,\n",
    "    scale=scale,\n",
    "    bias=bias,\n",
    "    epsilon=epsilon,\n",
    ")\n",
    "\n",
    "# enable all outputs\n",
    "out.set_name(\"output\").set_output(True).set_data_type(dtype)\n",
    "mean.set_name(\"mean\").set_output(True).set_data_type(dtype)\n",
    "inv_var.set_name(\"inv_var\").set_output(True).set_data_type(dtype);"
   ]
  },
  {
   "cell_type": "markdown",
   "metadata": {},
   "source": [
    "Build and execute the graph"
   ]
  },
  {
   "cell_type": "code",
   "execution_count": null,
   "metadata": {},
   "outputs": [],
   "source": [
    "# Build the graph\n",
    "graph.build([cudnn.heur_mode.A, cudnn.heur_mode.FALLBACK])\n",
    "\n",
    "# Allocate output tensors\n",
    "out_gpu = torch.randn(N, C, H, W, device=\"cuda\", dtype=dtype).to(\n",
    "    memory_format=torch.channels_last\n",
    ")\n",
    "mean_gpu = torch.randn(N, C, 1, 1, device=\"cuda\", dtype=dtype).to(\n",
    "    memory_format=torch.channels_last\n",
    ")\n",
    "inv_var_gpu = torch.randn(N, C, 1, 1, device=\"cuda\", dtype=dtype).to(\n",
    "    memory_format=torch.channels_last\n",
    ")\n",
    "\n",
    "# Execute the graph\n",
    "variant_pack = {\n",
    "    x: x_gpu,\n",
    "    scale: scale_gpu,\n",
    "    bias: bias_gpu,\n",
    "    epsilon: eps_cpu,\n",
    "    out: out_gpu,\n",
    "    mean: mean_gpu,\n",
    "    inv_var: inv_var_gpu,\n",
    "}\n",
    "\n",
    "workspace = torch.empty(graph.get_workspace_size(), device=\"cuda\", dtype=torch.uint8)\n",
    "graph.execute(variant_pack, workspace)\n",
    "torch.cuda.synchronize()"
   ]
  },
  {
   "cell_type": "markdown",
   "metadata": {},
   "source": [
    "Compute reference ouputs using PyTorch and compare with cuDNN graph outputs"
   ]
  },
  {
   "cell_type": "code",
   "execution_count": null,
   "metadata": {},
   "outputs": [],
   "source": [
    "out_ref = torch.nn.functional.instance_norm(\n",
    "    x_gpu,\n",
    "    weight=scale_gpu.view(C),\n",
    "    bias=bias_gpu.view(C),\n",
    ")\n",
    "mean_ref = x_gpu.mean(dim=(2, 3), keepdim=True)\n",
    "inv_var_ref = torch.rsqrt(torch.var(x_gpu, dim=(2, 3), keepdim=True) + epsilon_value)\n",
    "\n",
    "torch.testing.assert_close(out_gpu, out_ref, rtol=1e-2, atol=1e-2)\n",
    "torch.testing.assert_close(inv_var_gpu, inv_var_ref, rtol=1e-2, atol=1e-2)\n",
    "torch.testing.assert_close(mean_gpu, mean_ref, rtol=1e-2, atol=1e-2)"
   ]
  },
  {
   "cell_type": "markdown",
   "metadata": {},
   "source": [
    "Perform Cleanup"
   ]
  },
  {
   "cell_type": "code",
   "execution_count": null,
   "metadata": {},
   "outputs": [],
   "source": [
    "cudnn.destroy_handle(handle)"
   ]
  }
 ],
 "metadata": {
  "language_info": {
   "name": "python"
  }
 },
 "nbformat": 4,
 "nbformat_minor": 4
}
