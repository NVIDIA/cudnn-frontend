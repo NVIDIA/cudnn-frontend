{
 "cells": [
  {
   "cell_type": "markdown",
   "metadata": {},
   "source": [
    "# BatchNorm Operation\n",
    "\n",
    "This notebook shows how to compute a batchnorm forward operation using cuDNN.\n",
    "\n",
    "$$\\text{BatchNorm}(x) = \\frac{x-\\mu}{\\sqrt{\\sigma^2 + \\epsilon}}\\cdot\\gamma+\\beta$$\n",
    "\n",
    "Where $\\mu = E[x]$ and $\\sigma^2 = Var[x]$ are taken over all inputs in a channel."
   ]
  },
  {
   "cell_type": "markdown",
   "metadata": {},
   "source": [
    "[![Open In Colab](https://colab.research.google.com/assets/colab-badge.svg)](https://colab.research.google.com/github/NVIDIA/cudnn-frontend/blob/main/samples/python/29_batchnorm.ipynb)"
   ]
  },
  {
   "cell_type": "markdown",
   "metadata": {},
   "source": [
    "## Prerequisites and Setup\n",
    "This notebook requires an NVIDIA GPU. If `nvidia-smi` fails, go to Runtime -> Change runtime type -> Hardware accelerator and confirm a GPU is selected."
   ]
  },
  {
   "cell_type": "code",
   "execution_count": null,
   "metadata": {},
   "outputs": [],
   "source": [
    "# get_ipython().system('nvidia-smi')"
   ]
  },
  {
   "cell_type": "markdown",
   "metadata": {},
   "source": [
    "If running on Colab, you will need to install the cudnn python interface."
   ]
  },
  {
   "cell_type": "code",
   "execution_count": null,
   "metadata": {},
   "outputs": [],
   "source": [
    "# get_ipython().system('pip install nvidia-cudnn-cu12')\n",
    "# get_ipython().system('pip install nvidia-cudnn-frontend')\n",
    "# get_ipython().system('pip3 install --pre torch --index-url https://download.pytorch.org/whl/nightly/cu128')"
   ]
  },
  {
   "cell_type": "markdown",
   "metadata": {},
   "source": [
    "## Overview"
   ]
  },
  {
   "cell_type": "markdown",
   "metadata": {},
   "source": [
    "In the following, we are going to perform the RMS norm forward pass. First we define the batch size, number of channels, spatial dimensions, and some other parameters:"
   ]
  },
  {
   "cell_type": "code",
   "execution_count": null,
   "metadata": {},
   "outputs": [],
   "source": [
    "import cudnn\n",
    "import torch\n",
    "\n",
    "torch.manual_seed(1)\n",
    "print(\"Running with cudnn backend version:\", cudnn.backend_version())\n",
    "\n",
    "handle = cudnn.create_handle()\n",
    "assert torch.cuda.is_available()\n",
    "\n",
    "N, C, H, W = 4, 16, 56, 56\n",
    "epsilon_value = 1e-3\n",
    "momentum = 0.1\n",
    "dtype = torch.float16"
   ]
  },
  {
   "cell_type": "markdown",
   "metadata": {},
   "source": [
    "## Using Wrapper"
   ]
  },
  {
   "cell_type": "markdown",
   "metadata": {},
   "source": [
    "Below is how you can use the `Graph` wrapper to perform batch norm with the input tensors in PyTorch format."
   ]
  },
  {
   "cell_type": "code",
   "execution_count": null,
   "metadata": {},
   "outputs": [],
   "source": [
    "x_gpu = torch.randn(N, C, H, W, device=\"cuda\", dtype=dtype).to(\n",
    "    memory_format=torch.channels_last\n",
    ")\n",
    "scale_gpu = torch.randn(1, C, 1, 1, device=\"cuda\")\n",
    "bias_gpu = torch.randn(1, C, 1, 1, device=\"cuda\")\n",
    "running_mean_gpu = torch.randn(1, C, 1, 1, device=\"cuda\")\n",
    "running_var_gpu = torch.randn(1, C, 1, 1, device=\"cuda\")\n",
    "comparison_gpu = torch.zeros(N, C, H, W, device=\"cuda\", dtype=dtype).to(\n",
    "    memory_format=torch.channels_last\n",
    ")\n",
    "\n",
    "eps_cpu = torch.full((1, 1, 1, 1), epsilon_value, dtype=torch.float32, device=\"cpu\")\n",
    "momentum_cpu = torch.full((1, 1, 1, 1), momentum, dtype=torch.float32, device=\"cpu\")\n",
    "\n",
    "# forward pass of batchnorm using cuDNN graph\n",
    "with cudnn.Graph(\n",
    "    io_data_type=cudnn.data_type.HALF,\n",
    "    intermediate_data_type=cudnn.data_type.FLOAT,\n",
    "    compute_data_type=cudnn.data_type.FLOAT,\n",
    "    inputs=[\n",
    "        \"bn_fwd::input\",\n",
    "        \"bn_fwd::scale\",\n",
    "        \"bn_fwd::bias\",\n",
    "        \"bn_fwd::in_running_mean\",\n",
    "        \"bn_fwd::in_running_var\",\n",
    "        \"bn_fwd::epsilon\",\n",
    "        \"bn_fwd::momentum\",\n",
    "        \"cmp_gt::comparison\",\n",
    "    ],\n",
    "    outputs=[\"y\", \"mean\", \"inv_var\", \"run_mean\", \"run_var\", \"mask\"],\n",
    ") as fwd_graph:\n",
    "    out, mean, inv_var, run_mean, run_var = fwd_graph.batchnorm(\n",
    "        name=\"bn_fwd\",\n",
    "        input=x_gpu,\n",
    "        scale=scale_gpu,\n",
    "        bias=bias_gpu,\n",
    "        in_running_mean=running_mean_gpu,\n",
    "        in_running_var=running_var_gpu,\n",
    "        epsilon=eps_cpu,\n",
    "        momentum=momentum_cpu,\n",
    "    )\n",
    "    y = fwd_graph.relu(name=\"relu\", input=out)\n",
    "    mask = fwd_graph.cmp_gt(\n",
    "        name=\"cmp_gt\",\n",
    "        input=y,\n",
    "        comparison=comparison_gpu,\n",
    "    )\n",
    "    y.set_output(True).set_name(\"y\")\n",
    "    mean.set_output(True).set_data_type(cudnn.data_type.FLOAT).set_name(\"mean\")\n",
    "    inv_var.set_output(True).set_data_type(cudnn.data_type.FLOAT).set_name(\"inv_var\")\n",
    "    run_mean.set_output(True).set_data_type(cudnn.data_type.FLOAT).set_name(\"run_mean\")\n",
    "    run_var.set_output(True).set_data_type(cudnn.data_type.FLOAT).set_name(\"run_var\")\n",
    "    mask.set_output(True).set_data_type(cudnn.data_type.BOOLEAN).set_name(\"mask\")\n",
    "\n",
    "y_gpu, out_mean_gpu, out_inv_var_gpu, running_mean_gpu, running_var_gpu, mask_gpu = (\n",
    "    fwd_graph(\n",
    "        x_gpu,\n",
    "        scale_gpu,\n",
    "        bias_gpu,\n",
    "        running_mean_gpu,\n",
    "        running_var_gpu,\n",
    "        eps_cpu,\n",
    "        momentum_cpu,\n",
    "        comparison_gpu,\n",
    "        handle=handle,\n",
    "    )\n",
    ")"
   ]
  },
  {
   "cell_type": "markdown",
   "metadata": {},
   "source": [
    "This is a more sophisticated graph in that the output of the batch norm has been processed to create two other tensors, `y` and `mask`. There are multiple nodes in this graph. Let's compare the output with PyTorch:"
   ]
  },
  {
   "cell_type": "code",
   "execution_count": null,
   "metadata": {},
   "outputs": [],
   "source": [
    "# PyTorch equivalent of forward pass, and the stats of this batch\n",
    "out_ref = torch.nn.functional.batch_norm(\n",
    "    x_gpu,\n",
    "    running_mean_gpu,\n",
    "    running_var_gpu,\n",
    "    weight=scale_gpu,\n",
    "    bias=bias_gpu,\n",
    "    training=True,\n",
    "    momentum=momentum_cpu.item(),\n",
    "    eps=eps_cpu.item(),\n",
    ")\n",
    "mean_ref = torch.mean(x_gpu.float(), dim=(0, 2, 3), keepdim=True)\n",
    "inv_var_ref = torch.rsqrt(\n",
    "    torch.var(x_gpu.float(), dim=(0, 2, 3), keepdim=True) + epsilon_value\n",
    ")\n",
    "y_ref = torch.relu(out_ref)\n",
    "mask_ref = y_ref > 0\n",
    "\n",
    "# Compare the output\n",
    "torch.testing.assert_close(y_gpu, y_ref, atol=5e-3, rtol=3e-3)\n",
    "torch.testing.assert_close(mean_ref, out_mean_gpu, atol=5e-3, rtol=3e-3)\n",
    "torch.testing.assert_close(inv_var_ref, out_inv_var_gpu, atol=5e-3, rtol=3e-3)"
   ]
  },
  {
   "cell_type": "markdown",
   "metadata": {},
   "source": [
    "## Using Python Binding APIs"
   ]
  },
  {
   "cell_type": "markdown",
   "metadata": {},
   "source": [
    "#### Batchnorm Training Forward"
   ]
  },
  {
   "cell_type": "markdown",
   "metadata": {},
   "source": [
    "Create input and output tensor buffers in PyTorch."
   ]
  },
  {
   "cell_type": "code",
   "execution_count": null,
   "metadata": {},
   "outputs": [],
   "source": [
    "# input tensors\n",
    "x_gpu = torch.randn(N, C, H, W, device=\"cuda\", dtype=dtype).to(\n",
    "    memory_format=torch.channels_last\n",
    ")\n",
    "scale_gpu = torch.randn(1, C, 1, 1, device=\"cuda\")\n",
    "bias_gpu = torch.randn(1, C, 1, 1, device=\"cuda\")\n",
    "running_mean_gpu = torch.randn(1, C, 1, 1, device=\"cuda\")\n",
    "running_var_gpu = torch.randn(1, C, 1, 1, device=\"cuda\")\n",
    "comparison_gpu = torch.zeros(N, C, H, W, device=\"cuda\", dtype=dtype).to(\n",
    "    memory_format=torch.channels_last\n",
    ")\n",
    "\n",
    "eps_cpu = torch.full((1, 1, 1, 1), epsilon_value, dtype=torch.float32, device=\"cpu\")\n",
    "momentum_cpu = torch.full((1, 1, 1, 1), momentum, dtype=torch.float32, device=\"cpu\")\n",
    "\n",
    "# output tensors\n",
    "saved_mean_gpu = torch.empty_like(running_mean_gpu, device=\"cuda\")\n",
    "saved_inv_var_gpu = torch.empty_like(running_var_gpu, device=\"cuda\")\n",
    "y_gpu = torch.empty_like(x_gpu, dtype=dtype, device=\"cuda\")\n",
    "mask_gpu = torch.empty_like(x_gpu, dtype=torch.bool, device=\"cuda\")"
   ]
  },
  {
   "cell_type": "markdown",
   "metadata": {},
   "source": [
    "Create cuDNN graph"
   ]
  },
  {
   "cell_type": "code",
   "execution_count": null,
   "metadata": {},
   "outputs": [],
   "source": [
    "graph = cudnn.pygraph(\n",
    "    io_data_type=cudnn.data_type.HALF,\n",
    "    intermediate_data_type=cudnn.data_type.FLOAT,\n",
    "    compute_data_type=cudnn.data_type.FLOAT,\n",
    "    handle=handle,\n",
    ")\n",
    "\n",
    "x = graph.tensor_like(x_gpu)\n",
    "scale = graph.tensor_like(scale_gpu)\n",
    "bias = graph.tensor_like(bias_gpu)\n",
    "\n",
    "in_running_mean = graph.tensor_like(running_mean_gpu)\n",
    "in_running_var = graph.tensor_like(running_var_gpu)\n",
    "epsilon = graph.tensor_like(eps_cpu)\n",
    "momentum = graph.tensor_like(momentum_cpu)\n",
    "comparison = graph.tensor_like(x_gpu)\n",
    "\n",
    "y_before_relu, saved_mean, saved_inv_var, out_running_mean, out_running_var = (\n",
    "    graph.batchnorm(\n",
    "        name=\"BN\",\n",
    "        input=x,\n",
    "        scale=scale,\n",
    "        bias=bias,\n",
    "        in_running_mean=in_running_mean,\n",
    "        in_running_var=in_running_var,\n",
    "        epsilon=epsilon,\n",
    "        momentum=momentum,\n",
    "    )\n",
    ")\n",
    "y = graph.relu(name=\"relu\", input=y_before_relu)\n",
    "mask = graph.cmp_gt(name=\"cmp\", input=y, comparison=comparison)\n",
    "\n",
    "y.set_output(True)\n",
    "saved_mean.set_output(True).set_data_type(cudnn.data_type.FLOAT)\n",
    "saved_inv_var.set_output(True).set_data_type(cudnn.data_type.FLOAT)\n",
    "out_running_mean.set_output(True).set_data_type(cudnn.data_type.FLOAT)\n",
    "out_running_var.set_output(True).set_data_type(cudnn.data_type.FLOAT)\n",
    "mask.set_output(True).set_data_type(cudnn.data_type.BOOLEAN)\n",
    "pass"
   ]
  },
  {
   "cell_type": "markdown",
   "metadata": {},
   "source": [
    "Build the graph"
   ]
  },
  {
   "cell_type": "code",
   "execution_count": null,
   "metadata": {},
   "outputs": [],
   "source": [
    "graph.validate()\n",
    "graph.build_operation_graph()\n",
    "graph.create_execution_plans([cudnn.heur_mode.A, cudnn.heur_mode.FALLBACK])\n",
    "graph.check_support()\n",
    "graph.build_plans()"
   ]
  },
  {
   "cell_type": "markdown",
   "metadata": {},
   "source": [
    "Execute the graph"
   ]
  },
  {
   "cell_type": "code",
   "execution_count": null,
   "metadata": {},
   "outputs": [],
   "source": [
    "variant_pack = {\n",
    "    x: x_gpu,\n",
    "    scale: scale_gpu,\n",
    "    bias: bias_gpu,\n",
    "    in_running_mean: running_mean_gpu,\n",
    "    in_running_var: running_var_gpu,\n",
    "    epsilon: eps_cpu,\n",
    "    momentum: momentum_cpu,\n",
    "    out_running_mean: running_mean_gpu,\n",
    "    out_running_var: running_var_gpu,\n",
    "    saved_mean: saved_mean_gpu,\n",
    "    saved_inv_var: saved_inv_var_gpu,\n",
    "    y: y_gpu,\n",
    "    comparison: comparison_gpu,\n",
    "    mask: mask_gpu,\n",
    "}\n",
    "workspace = torch.empty(graph.get_workspace_size(), device=\"cuda\", dtype=torch.uint8)\n",
    "graph.execute(\n",
    "    variant_pack,\n",
    "    workspace,\n",
    "    handle=handle,\n",
    ")\n",
    "torch.cuda.synchronize()"
   ]
  },
  {
   "cell_type": "markdown",
   "metadata": {},
   "source": [
    "Test cuDNN's output against PyTorch's and check correctness"
   ]
  },
  {
   "cell_type": "code",
   "execution_count": null,
   "metadata": {},
   "outputs": [],
   "source": [
    "x_ref = x_gpu.clone().float()\n",
    "running_mean_ref = running_mean_gpu.clone().float()\n",
    "running_var_ref = running_var_gpu.clone().float()\n",
    "\n",
    "y_before_relu_ref = torch.nn.functional.batch_norm(\n",
    "    x_ref,\n",
    "    running_mean_ref,  # running_mean is both input and output\n",
    "    running_var_ref,  # running_var is both input and output\n",
    "    weight=scale_gpu,\n",
    "    bias=bias_gpu,\n",
    "    training=True,\n",
    "    momentum=momentum_cpu.item(),\n",
    "    eps=eps_cpu.item(),\n",
    ")\n",
    "\n",
    "mean_ref = torch.mean(x_ref, dim=(0, 2, 3), keepdim=True)\n",
    "inv_var_ref = torch.var(x_ref, dim=(0, 2, 3), keepdim=True)\n",
    "inv_var_ref = torch.rsqrt(inv_var_ref + epsilon_value)\n",
    "y_ref = torch.relu(y_before_relu_ref)\n",
    "mask_ref = y_ref > 0\n",
    "\n",
    "torch.testing.assert_close(y_ref, y_gpu.float(), atol=1e-3, rtol=1e-3)\n",
    "torch.testing.assert_close(mean_ref, saved_mean_gpu.float(), atol=1e-3, rtol=1e-3)\n",
    "torch.testing.assert_close(inv_var_ref, saved_inv_var_gpu.float(), atol=1e-3, rtol=1e-3)"
   ]
  }
 ],
 "metadata": {
  "language_info": {
   "name": "python"
  }
 },
 "nbformat": 4,
 "nbformat_minor": 2
}
