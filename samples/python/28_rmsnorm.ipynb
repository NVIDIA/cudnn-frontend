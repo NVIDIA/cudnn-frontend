{
 "cells": [
  {
   "cell_type": "markdown",
   "metadata": {},
   "source": [
    "# RMSNorm Operation\n",
    "\n",
    "This notebook shows how to compute an RMS norm using the cuDNN python frontend.\n",
    "\n",
    "$$\\text{RMSNorm}(x) = \\frac{x}{\\sqrt{\\mathbb{E}(x^2) + \\epsilon}}\\cdot\\gamma+\\beta$$"
   ]
  },
  {
   "cell_type": "markdown",
   "metadata": {},
   "source": [
    "[![Open In Colab](https://colab.research.google.com/assets/colab-badge.svg)](https://colab.research.google.com/github/NVIDIA/cudnn-frontend/blob/main/samples/python/28_rmsnorm.ipynb)"
   ]
  },
  {
   "cell_type": "markdown",
   "metadata": {},
   "source": [
    "## Prerequisites and Setup\n",
    "This notebook requires an NVIDIA GPU. If `nvidia-smi` fails, go to Runtime -> Change runtime type -> Hardware accelerator and confirm a GPU is selected."
   ]
  },
  {
   "cell_type": "code",
   "execution_count": null,
   "metadata": {},
   "outputs": [],
   "source": [
    "# get_ipython().system('nvidia-smi')"
   ]
  },
  {
   "cell_type": "markdown",
   "metadata": {},
   "source": [
    "If running on Colab, you will need to install the cudnn python interface."
   ]
  },
  {
   "cell_type": "code",
   "execution_count": null,
   "metadata": {},
   "outputs": [],
   "source": [
    "# get_ipython().system('pip install nvidia-cudnn-cu12')\n",
    "# get_ipython().system('pip install nvidia-cudnn-frontend')\n",
    "# get_ipython().system('pip3 install --pre torch --index-url https://download.pytorch.org/whl/nightly/cu128')"
   ]
  },
  {
   "cell_type": "markdown",
   "metadata": {},
   "source": [
    "## Overview"
   ]
  },
  {
   "cell_type": "markdown",
   "metadata": {},
   "source": [
    "In the following, we are going to perform the RMS norm forward pass with the following problem sizes:\n",
    "\n",
    "- batch size: 4\n",
    "- sequence length: 1024\n",
    "- hidden dimension: 768\n",
    "\n",
    "The tensor will be in 16-bit float format."
   ]
  },
  {
   "cell_type": "code",
   "execution_count": null,
   "metadata": {},
   "outputs": [],
   "source": [
    "import cudnn\n",
    "import torch\n",
    "\n",
    "torch.manual_seed(1)\n",
    "\n",
    "handle = cudnn.create_handle()\n",
    "print(\"Running with cudnn backend version:\", cudnn.backend_version())\n",
    "\n",
    "assert torch.cuda.is_available()\n",
    "assert (\n",
    "    cudnn.backend_version_string() >= \"9.1.0\"\n",
    "), \"RMSNorm requires cuDNN 9.1.0 or higher\"\n",
    "\n",
    "batch, seq_length, hidden_size = 4, 1024, 128\n",
    "dtype = torch.float16\n",
    "# Epsilon is a small number to prevent division by 0.\n",
    "epsilon_value = 1e-3"
   ]
  },
  {
   "cell_type": "markdown",
   "metadata": {},
   "source": [
    "## Using Wrapper"
   ]
  },
  {
   "cell_type": "markdown",
   "metadata": {},
   "source": [
    "Below is how you can use the `Graph` wrapper to perform RMS norm with the input tensors in PyTorch format."
   ]
  },
  {
   "cell_type": "code",
   "execution_count": null,
   "metadata": {},
   "outputs": [],
   "source": [
    "# forward pass of rmsnorm using PyTorch\n",
    "x_gpu = torch.randn(\n",
    "    batch * seq_length,\n",
    "    hidden_size,\n",
    "    1,\n",
    "    1,\n",
    "    device=\"cuda\",\n",
    "    dtype=dtype,\n",
    "    requires_grad=True,\n",
    ").to(memory_format=torch.channels_last)\n",
    "scale_gpu = torch.randn(\n",
    "    1, hidden_size, 1, 1, device=\"cuda\", dtype=dtype, requires_grad=True\n",
    ").to(memory_format=torch.channels_last)\n",
    "bias_gpu = torch.randn(\n",
    "    1, hidden_size, 1, 1, device=\"cuda\", dtype=dtype, requires_grad=True\n",
    ").to(memory_format=torch.channels_last)\n",
    "eps_cpu = torch.full((1, 1, 1, 1), epsilon_value, dtype=torch.float32, device=\"cpu\")\n",
    "\n",
    "# forward pass of rmsnorm using cuDNN graph\n",
    "with cudnn.Graph(\n",
    "    intermediate_data_type=cudnn.data_type.FLOAT,\n",
    "    compute_data_type=cudnn.data_type.FLOAT,\n",
    "    inputs=[\"rms_fwd::input\", \"rms_fwd::scale\", \"rms_fwd::bias\", \"rms_fwd::epsilon\"],\n",
    "    outputs=[\"rms_fwd::Y\", \"rms_fwd::INV_VARIANCE\"],\n",
    ") as rmsnorm_graph:\n",
    "    out, inv_var = rmsnorm_graph.rmsnorm(\n",
    "        name=\"rms_fwd\",\n",
    "        norm_forward_phase=cudnn.norm_forward_phase.TRAINING,\n",
    "        input=x_gpu,\n",
    "        scale=scale_gpu,\n",
    "        bias=bias_gpu,\n",
    "        epsilon=eps_cpu,\n",
    "    )\n",
    "    # set output, inv_var must be float32 tensor\n",
    "    out.set_output(True).set_data_type(dtype)\n",
    "    inv_var.set_output(True).set_data_type(cudnn.data_type.FLOAT)\n",
    "\n",
    "# execute the graph and retrieve the output tensors\n",
    "out_gpu, inv_var_gpu = rmsnorm_graph(x_gpu, scale_gpu, bias_gpu, eps_cpu, handle=handle)\n",
    "\n",
    "# verify the result with PyTorch API\n",
    "out_ref = torch.nn.functional.rms_norm(\n",
    "    x_gpu,\n",
    "    [hidden_size, 1, 1],  # RMS norm over last 3 dimensions\n",
    "    weight=scale_gpu.squeeze(0),\n",
    "    eps=epsilon_value,\n",
    ")\n",
    "out_ref = out_ref + bias_gpu\n",
    "inv_var_ref = torch.rsqrt(\n",
    "    torch.mean(x_gpu.float().pow(2), dim=(1, 2, 3), keepdim=True) + epsilon_value\n",
    ")\n",
    "\n",
    "torch.testing.assert_close(out_gpu, out_ref, atol=5e-3, rtol=3e-3)\n",
    "torch.testing.assert_close(inv_var_gpu, inv_var_ref, atol=5e-3, rtol=3e-3)"
   ]
  },
  {
   "cell_type": "markdown",
   "metadata": {},
   "source": [
    "The above performs forward pass of RMSNorm. Next, we will perform the backward pass:"
   ]
  },
  {
   "cell_type": "code",
   "execution_count": null,
   "metadata": {},
   "outputs": [],
   "source": [
    "# Compute gradients: Ask PyTorch not to discard the grads after use so that we can read it twice\n",
    "# out_ref.grad will be used in the cudnn graph, x_gpu.grad, scale_gpu.grad, and bias_gpu.grad will\n",
    "# be used to compare with the cudnn graph output.\n",
    "target = torch.randn_like(out_ref)\n",
    "criterion = torch.nn.MSELoss()\n",
    "loss = criterion(out_ref, target)\n",
    "\n",
    "out_ref.retain_grad()\n",
    "x_gpu.retain_grad()\n",
    "scale_gpu.retain_grad()\n",
    "bias_gpu.retain_grad()\n",
    "\n",
    "loss.backward()\n",
    "\n",
    "# Backward pass\n",
    "with cudnn.Graph(\n",
    "    io_data_type=cudnn.data_type.HALF,\n",
    "    intermediate_data_type=cudnn.data_type.FLOAT,\n",
    "    compute_data_type=cudnn.data_type.FLOAT,\n",
    "    inputs=[\n",
    "        \"rms_bwd::grad\",\n",
    "        \"rms_bwd::input\",\n",
    "        \"rms_bwd::scale\",\n",
    "        \"rms_bwd::inv_variance\",\n",
    "    ],\n",
    "    outputs=[\"rms_bwd::DX\", \"rms_bwd::Dscale\", \"rms_bwd::Dbias\"],\n",
    ") as bwd_graph:\n",
    "    dx, dscale, dbias = bwd_graph.rmsnorm_backward(\n",
    "        name=\"rms_bwd\",\n",
    "        grad=out_ref,\n",
    "        input=x_gpu,\n",
    "        scale=scale_gpu,\n",
    "        inv_variance=inv_var_gpu,\n",
    "        has_dbias=True,\n",
    "    )\n",
    "    dx.set_output(True).set_data_type(x_gpu.dtype)\n",
    "    dscale.set_output(True).set_data_type(x_gpu.dtype)\n",
    "    dbias.set_output(True).set_data_type(x_gpu.dtype)\n",
    "\n",
    "# execute the graph and retrieve the output tensors\n",
    "dx_gpu, dscale_gpu, dbias_gpu = bwd_graph(\n",
    "    out_ref.grad, x_gpu, scale_gpu, inv_var_gpu, handle=handle\n",
    ")\n",
    "\n",
    "torch.testing.assert_close(x_gpu.grad, dx_gpu, atol=5e-3, rtol=3e-3)\n",
    "torch.testing.assert_close(scale_gpu.grad, dscale_gpu, atol=5e-3, rtol=3e-3)\n",
    "torch.testing.assert_close(bias_gpu.grad, dbias_gpu, atol=5e-3, rtol=3e-3)"
   ]
  },
  {
   "cell_type": "markdown",
   "metadata": {},
   "source": [
    "## Using Python Binding APIs"
   ]
  },
  {
   "cell_type": "markdown",
   "metadata": {},
   "source": [
    "#### RMS norm forward pass"
   ]
  },
  {
   "cell_type": "markdown",
   "metadata": {},
   "source": [
    "Create input tensor GPU buffers. We use PyTorch to allocate GPU tensors so we can reuse them easily when we calculate reference outputs."
   ]
  },
  {
   "cell_type": "code",
   "execution_count": null,
   "metadata": {},
   "outputs": [],
   "source": [
    "# input tensor memory, initialize them to random numbers\n",
    "x_gpu = torch.randn(\n",
    "    batch * seq_length,\n",
    "    hidden_size,\n",
    "    1,\n",
    "    1,\n",
    "    device=\"cuda\",\n",
    "    dtype=dtype,\n",
    "    requires_grad=True,\n",
    ").to(memory_format=torch.channels_last)\n",
    "scale_gpu = torch.randn(\n",
    "    1, hidden_size, 1, 1, device=\"cuda\", dtype=dtype, requires_grad=True\n",
    ").to(memory_format=torch.channels_last)\n",
    "bias_gpu = torch.randn(\n",
    "    1, hidden_size, 1, 1, device=\"cuda\", dtype=dtype, requires_grad=True\n",
    ").to(memory_format=torch.channels_last)\n",
    "# set epsilon to epsilon_value, allocate on cpu.\n",
    "eps_cpu = torch.full((1, 1, 1, 1), epsilon_value, dtype=torch.float32, device=\"cpu\")"
   ]
  },
  {
   "cell_type": "markdown",
   "metadata": {},
   "source": [
    "Create cuDNN graph and cuDNN tensors"
   ]
  },
  {
   "cell_type": "code",
   "execution_count": null,
   "metadata": {},
   "outputs": [],
   "source": [
    "graph = cudnn.pygraph(\n",
    "    handle=handle,\n",
    "    intermediate_data_type=cudnn.data_type.FLOAT,\n",
    "    compute_data_type=cudnn.data_type.FLOAT,\n",
    ")\n",
    "\n",
    "# create tensor handles with the graph API\n",
    "x = graph.tensor_like(x_gpu.detach()).set_name(\"X\")\n",
    "scale = graph.tensor_like(scale_gpu.detach()).set_name(\"scale\")\n",
    "bias = graph.tensor_like(bias_gpu.detach()).set_name(\"bias\")\n",
    "epsilon = graph.tensor_like(eps_cpu).set_name(\"epsilon\")\n",
    "\n",
    "out, inv_var = graph.rmsnorm(\n",
    "    name=\"rmsnorm\",\n",
    "    input=x,\n",
    "    norm_forward_phase=cudnn.norm_forward_phase.TRAINING,\n",
    "    scale=scale,\n",
    "    bias=bias,\n",
    "    epsilon=epsilon,\n",
    ")\n",
    "\n",
    "# enable all outputs\n",
    "out.set_name(\"output\").set_output(True).set_data_type(dtype)\n",
    "inv_var.set_name(\"inv_var\").set_output(True).set_data_type(cudnn.data_type.FLOAT);"
   ]
  },
  {
   "cell_type": "markdown",
   "metadata": {},
   "source": [
    "Build and execute the graph"
   ]
  },
  {
   "cell_type": "code",
   "execution_count": null,
   "metadata": {},
   "outputs": [],
   "source": [
    "# Build the graph\n",
    "graph.build([cudnn.heur_mode.A, cudnn.heur_mode.FALLBACK])\n",
    "\n",
    "# Mapping of (handles -> memory)\n",
    "variant_pack = {\n",
    "    x: x_gpu.detach(),\n",
    "    scale: scale_gpu.detach(),\n",
    "    bias: bias_gpu.detach(),\n",
    "    epsilon: eps_cpu,\n",
    "    out: out_gpu,\n",
    "    inv_var: inv_var_gpu,\n",
    "}\n",
    "\n",
    "# Execute the graph\n",
    "workspace = torch.empty(graph.get_workspace_size(), device=\"cuda\", dtype=torch.uint8)\n",
    "graph.execute(variant_pack, workspace)\n",
    "torch.cuda.synchronize()"
   ]
  },
  {
   "cell_type": "markdown",
   "metadata": {},
   "source": [
    "Compute reference ouputs and verify"
   ]
  },
  {
   "cell_type": "code",
   "execution_count": null,
   "metadata": {},
   "outputs": [],
   "source": [
    "# reference output using PyTorch\n",
    "out_ref = torch.nn.functional.rms_norm(\n",
    "    x_gpu,\n",
    "    [hidden_size, 1, 1],  # RMS norm over last 3 dimensions\n",
    "    weight=scale_gpu.squeeze(0),\n",
    "    eps=epsilon_value,\n",
    ")\n",
    "out_ref = out_ref + bias_gpu\n",
    "inv_var_ref = torch.rsqrt(\n",
    "    torch.mean(x_gpu.float().pow(2), dim=(1, 2, 3), keepdim=True) + epsilon_value\n",
    ")\n",
    "\n",
    "# Test cuDNN's output against PyTorch's and check correctness\n",
    "torch.testing.assert_close(out_gpu, out_ref, rtol=5e-3, atol=5e-3)\n",
    "torch.testing.assert_close(inv_var_gpu, inv_var_ref, rtol=5e-3, atol=5e-3)"
   ]
  },
  {
   "cell_type": "markdown",
   "metadata": {},
   "source": [
    "#### RMSNorm Backwards Pass"
   ]
  },
  {
   "cell_type": "code",
   "execution_count": null,
   "metadata": {},
   "outputs": [],
   "source": [
    "target = torch.randn_like(out_ref)\n",
    "criterion = torch.nn.MSELoss()\n",
    "loss = criterion(out_ref, target)\n",
    "\n",
    "out_ref.retain_grad()\n",
    "x_gpu.retain_grad()\n",
    "scale_gpu.retain_grad()\n",
    "bias_gpu.retain_grad()\n",
    "\n",
    "loss.backward()"
   ]
  },
  {
   "cell_type": "code",
   "execution_count": null,
   "metadata": {},
   "outputs": [],
   "source": [
    "bwd_graph = cudnn.pygraph(\n",
    "    handle=handle,\n",
    "    intermediate_data_type=cudnn.data_type.FLOAT,\n",
    "    compute_data_type=cudnn.data_type.FLOAT,\n",
    ")\n",
    "\n",
    "d_out = bwd_graph.tensor_like(out_ref.grad)\n",
    "x_bwd = bwd_graph.tensor_like(x, name=\"x\")\n",
    "scale_bwd = bwd_graph.tensor_like(scale, name=\"scale\")\n",
    "inv_var_bwd = bwd_graph.tensor_like(inv_var, name=\"inv_var\")\n",
    "\n",
    "d_x, d_scale, d_bias = bwd_graph.rmsnorm_backward(\n",
    "    name=\"d_rmsnorm\",\n",
    "    grad=d_out,\n",
    "    input=x_bwd,\n",
    "    scale=scale_bwd,\n",
    "    inv_variance=inv_var_bwd,\n",
    "    has_dbias=True,\n",
    ")\n",
    "\n",
    "d_x.set_output(True).set_data_type(dtype)\n",
    "d_scale.set_output(True).set_data_type(dtype)\n",
    "d_bias.set_output(True).set_data_type(dtype);"
   ]
  },
  {
   "cell_type": "code",
   "execution_count": null,
   "metadata": {},
   "outputs": [],
   "source": [
    "# Build the bwd_graph\n",
    "bwd_graph.build([cudnn.heur_mode.A, cudnn.heur_mode.FALLBACK])\n",
    "\n",
    "# Create output buffers for gradients\n",
    "d_x_gpu = torch.empty_like(x_gpu)\n",
    "d_scale_gpu = torch.empty_like(scale_gpu)\n",
    "d_bias_gpu = torch.empty_like(bias_gpu)\n",
    "\n",
    "# Execute the graph\n",
    "workspace = torch.empty(\n",
    "    bwd_graph.get_workspace_size(), device=\"cuda\", dtype=torch.uint8\n",
    ")\n",
    "bwd_graph.execute(\n",
    "    {\n",
    "        x_bwd: x_gpu.detach(),\n",
    "        scale_bwd: scale_gpu.detach(),\n",
    "        d_out: out_ref.grad,\n",
    "        inv_var_bwd: inv_var_gpu.detach(),\n",
    "        d_x: d_x_gpu,\n",
    "        d_scale: d_scale_gpu,\n",
    "        d_bias: d_bias_gpu,\n",
    "    },\n",
    "    workspace,\n",
    "    handle=handle,\n",
    ")"
   ]
  },
  {
   "cell_type": "markdown",
   "metadata": {},
   "source": [
    "Compare results and check correctness"
   ]
  },
  {
   "cell_type": "code",
   "execution_count": null,
   "metadata": {},
   "outputs": [],
   "source": [
    "torch.cuda.synchronize()\n",
    "\n",
    "torch.testing.assert_close(x_gpu.grad, d_x_gpu, atol=2e-4, rtol=2e-4)\n",
    "torch.testing.assert_close(scale_gpu.grad, d_scale_gpu, atol=2e-4, rtol=2e-4)\n",
    "torch.testing.assert_close(bias_gpu.grad, d_bias_gpu, atol=2e-4, rtol=2e-4)"
   ]
  },
  {
   "cell_type": "markdown",
   "metadata": {},
   "source": [
    "Perform Cleanup"
   ]
  },
  {
   "cell_type": "code",
   "execution_count": null,
   "metadata": {},
   "outputs": [],
   "source": [
    "cudnn.destroy_handle(handle)"
   ]
  }
 ],
 "metadata": {
  "language_info": {
   "name": "python"
  }
 },
 "nbformat": 4,
 "nbformat_minor": 4
}
