{
 "cells": [
  {
   "cell_type": "markdown",
   "metadata": {},
   "source": [
    "This notebook shows how to compute an adaptive layernorm forward operation using cuDNN.\n",
    "\n",
    "$$\\text{Adaptive\\_LayerNorm}(x) = \\frac{x-\\mu}{\\sqrt{\\sigma^2 + \\epsilon}}\\cdot\\gamma+\\beta$$\n",
    "\n",
    "Where $\\mu = E[x]$ and $\\sigma^2 = Var[x]$ are taken over all inputs in a batch. $\\gamma$ and $\\beta$ are learnable parameters and varies for each input in a batch compared to the layernorm where $\\gamma$ and $\\beta$ are shared across all inputs in a batch."
   ]
  },
  {
   "cell_type": "markdown",
   "metadata": {},
   "source": [
    "[![Open In Colab](https://colab.research.google.com/assets/colab-badge.svg)](https://colab.research.google.com/github/NVIDIA/cudnn-frontend/blob/main/samples/python/01_matmul_bias.ipynb)"
   ]
  },
  {
   "cell_type": "markdown",
   "metadata": {},
   "source": [
    "## Prerequisites and Setup\n",
    "This notebook requires an NVIDIA GPU. If `nvidia-smi` fails, go to Runtime -> Change runtime type -> Hardware accelerator and confirm a GPU is selected."
   ]
  },
  {
   "cell_type": "code",
   "execution_count": 13,
   "metadata": {},
   "outputs": [],
   "source": [
    "# get_ipython().system('nvidia-smi')"
   ]
  },
  {
   "cell_type": "markdown",
   "metadata": {},
   "source": [
    "If running on Colab, you will need to install the cudnn python interface."
   ]
  },
  {
   "cell_type": "code",
   "execution_count": 14,
   "metadata": {},
   "outputs": [],
   "source": [
    "# get_ipython().system('pip install nvidia-cudnn-cu12')\n",
    "# get_ipython().system('pip install nvidia-cudnn-frontend')\n",
    "# get_ipython().system('pip3 install --pre torch --index-url https://download.pytorch.org/whl/nightly/cu128')"
   ]
  },
  {
   "cell_type": "markdown",
   "metadata": {},
   "source": [
    "#### General Setup\n",
    "Create a cudnn handle, which is a per device handle used to initialize cudnn context."
   ]
  },
  {
   "cell_type": "code",
   "execution_count": 15,
   "metadata": {},
   "outputs": [
    {
     "name": "stdout",
     "output_type": "stream",
     "text": [
      "Running with cudnn backend version: 90900\n"
     ]
    }
   ],
   "source": [
    "import cudnn\n",
    "import torch\n",
    "import torch.nn as nn\n",
    "import sys\n",
    "\n",
    "torch.manual_seed(1)\n",
    "handle = cudnn.create_handle()\n",
    "\n",
    "print(\"Running with cudnn backend version:\", cudnn.backend_version())\n",
    "\n",
    "assert torch.cuda.is_available()"
   ]
  },
  {
   "cell_type": "markdown",
   "metadata": {},
   "source": [
    "### LayerNorm Training\n",
    "Problem Sizes:\n",
    "- Batch Size: 4\n",
    "- Sequence Size: 1024\n",
    "- Embedding Dimension: 768"
   ]
  },
  {
   "cell_type": "code",
   "execution_count": 16,
   "metadata": {},
   "outputs": [],
   "source": [
    "batch, seq_size, embedding_dim = 4, 1024, 768\n",
    "\n",
    "input_type = torch.float16\n",
    "\n",
    "# Epsilon is a small number to prevent division by 0.\n",
    "epsilon_value = 1e-3"
   ]
  },
  {
   "cell_type": "markdown",
   "metadata": {},
   "source": [
    "Create input tensor GPU buffers. We use PyTorch to allocate GPU tensors so we can reuse them easily when we calculate reference outputs."
   ]
  },
  {
   "cell_type": "code",
   "execution_count": 17,
   "metadata": {},
   "outputs": [],
   "source": [
    "# allocate input tensor memory, initialize them to random numbers\n",
    "x_gpu = torch.randn(\n",
    "    batch,\n",
    "    seq_size,\n",
    "    embedding_dim,\n",
    "    dtype=input_type,\n",
    "    requires_grad=True,\n",
    "    device=\"cuda\",\n",
    ")\n",
    "scale_gpu = torch.randn(\n",
    "    batch, 1, embedding_dim, dtype=input_type, requires_grad=True, device=\"cuda\"\n",
    ")\n",
    "bias_gpu = torch.randn(\n",
    "    batch, 1, embedding_dim, dtype=input_type, requires_grad=True, device=\"cuda\"\n",
    ")\n",
    "\n",
    "# Epsilon must be a scalar value on the cpu.\n",
    "epsilon_cpu = torch.full(\n",
    "    (1, 1, 1), epsilon_value, dtype=torch.float32, requires_grad=False, device=\"cpu\"\n",
    ")"
   ]
  },
  {
   "cell_type": "markdown",
   "metadata": {},
   "source": [
    "Compute reference ouputs and allocate output tensor GPU buffers"
   ]
  },
  {
   "cell_type": "code",
   "execution_count": 18,
   "metadata": {},
   "outputs": [],
   "source": [
    "# Define the AdaptiveLayerNorm class\n",
    "class AdaptiveLayerNorm(nn.Module):\n",
    "    def __init__(self, normalized_shape, eps=1e-5):\n",
    "        super(AdaptiveLayerNorm, self).__init__()\n",
    "        self.layer_norm = nn.LayerNorm(\n",
    "            normalized_shape, eps=eps, elementwise_affine=False\n",
    "        )\n",
    "        self.normalized_shape = normalized_shape\n",
    "\n",
    "    def forward(self, x, gamma, beta):\n",
    "        # Dimension checks\n",
    "        if x.dim() != 3:\n",
    "            raise ValueError(\n",
    "                f\"Expected input x to have 3 dimensions, but got {x.dim()} dimensions.\"\n",
    "            )\n",
    "        if gamma.dim() != 3 or beta.dim() != 3:\n",
    "            raise ValueError(\n",
    "                f\"Expected gamma and beta to have 3 dimensions, but got gamma: {gamma.dim()} dimensions, beta: {beta.dim()} dimensions.\"\n",
    "            )\n",
    "        expected_shape = (x.size(0), 1, self.normalized_shape)\n",
    "        if gamma.shape != expected_shape or beta.shape != expected_shape:\n",
    "            raise ValueError(\n",
    "                f\"Expected gamma and beta to have shape {expected_shape}, but got gamma: {gamma.shape}, beta: {beta.shape}.\"\n",
    "            )\n",
    "\n",
    "        # Apply LayerNorm\n",
    "        normalized_x = self.layer_norm(x)\n",
    "        # Apply adaptive scaling and shifting, usually gamma and beta are based on the input x through some layer\n",
    "        return gamma * normalized_x + beta\n",
    "\n",
    "\n",
    "# Create the reference computation outputs here before the cuDNN computation, in order to use .empty_like() to create our output buffers\n",
    "adaptive_layer_norm = AdaptiveLayerNorm(embedding_dim, eps=epsilon_value)\n",
    "out_expected = adaptive_layer_norm(x_gpu, scale_gpu, bias_gpu)\n",
    "\n",
    "# Allocate output tensor memory using PyTorch\n",
    "# PyTorch has calculated their shapes already, so we can simply use .empty_like()\n",
    "out_gpu = torch.empty_like(out_expected)"
   ]
  },
  {
   "cell_type": "markdown",
   "metadata": {},
   "source": [
    "#### Create cuDNN graph\n"
   ]
  },
  {
   "cell_type": "markdown",
   "metadata": {},
   "source": [
    "Here we assign UIDs for tensors. UIDs are a unique identifier that will allow us to provide a mapping from tensors created from cuDNN graph api calls, such as `graph.tensor_like()`, to the underlying device memory that will be used to store these tensors. Virtual tensors don't require explicit memory allocated for them, but non-vritual tensors like inputs or outputs will need to have UIDs assigned to them. \n",
    "\n",
    "Alternatively, one can use handles directly in the mapping, however using UIDs can be more convinient for caching of cuDNN graphs.\n",
    "\n",
    "For each of our inputs {X, Scale, Bias, Epsilon} and our output Out, we allocate a UID. "
   ]
  },
  {
   "cell_type": "code",
   "execution_count": 19,
   "metadata": {},
   "outputs": [],
   "source": [
    "from enum import Enum\n",
    "\n",
    "\n",
    "class UID(Enum):\n",
    "    X = 0\n",
    "    SCALE = 1\n",
    "    BIAS = 2\n",
    "    EPSILON = 3\n",
    "    OUT = 4"
   ]
  },
  {
   "cell_type": "code",
   "execution_count": 20,
   "metadata": {},
   "outputs": [
    {
     "name": "stdout",
     "output_type": "stream",
     "text": [
      "{\n",
      "    \"context\": {\n",
      "        \"compute_data_type\": \"FLOAT\",\n",
      "        \"intermediate_data_type\": \"FLOAT\",\n",
      "        \"io_data_type\": null,\n",
      "        \"name\": \"\",\n",
      "        \"sm_count\": -1\n",
      "    },\n",
      "    \"cudnn_backend_version\": \"9.9.0\",\n",
      "    \"cudnn_frontend_version\": 11000,\n",
      "    \"json_version\": \"1.0\",\n",
      "    \"nodes\": [\n",
      "        {\n",
      "            \"compute_data_type\": null,\n",
      "            \"forward_phase\": \"INFERENCE\",\n",
      "            \"inputs\": {\n",
      "                \"BIAS\": \"bias\",\n",
      "                \"EPSILON\": \"epsilon\",\n",
      "                \"SCALE\": \"scale\",\n",
      "                \"X\": \"X\"\n",
      "            },\n",
      "            \"name\": \"ADALN\",\n",
      "            \"outputs\": {\n",
      "                \"Y\": \"output\"\n",
      "            },\n",
      "            \"tag\": \"ADA_LAYER_NORM\"\n",
      "        }\n",
      "    ],\n",
      "    \"tensors\": {\n",
      "        \"X\": {\n",
      "            \"data_type\": \"HALF\",\n",
      "            \"dim\": [4,1024,768],\n",
      "            \"is_pass_by_value\": false,\n",
      "            \"is_virtual\": false,\n",
      "            \"name\": \"X\",\n",
      "            \"pass_by_value\": null,\n",
      "            \"reordering_type\": \"NONE\",\n",
      "            \"stride\": [786432,768,1],\n",
      "            \"uid\": 0,\n",
      "            \"uid_assigned\": true\n",
      "        },\n",
      "        \"bias\": {\n",
      "            \"data_type\": \"HALF\",\n",
      "            \"dim\": [4,1,768],\n",
      "            \"is_pass_by_value\": false,\n",
      "            \"is_virtual\": false,\n",
      "            \"name\": \"bias\",\n",
      "            \"pass_by_value\": null,\n",
      "            \"reordering_type\": \"NONE\",\n",
      "            \"stride\": [768,1,1],\n",
      "            \"uid\": 2,\n",
      "            \"uid_assigned\": true\n",
      "        },\n",
      "        \"epsilon\": {\n",
      "            \"data_type\": \"FLOAT\",\n",
      "            \"dim\": [1,1,1],\n",
      "            \"is_pass_by_value\": true,\n",
      "            \"is_virtual\": false,\n",
      "            \"name\": \"epsilon\",\n",
      "            \"pass_by_value\": null,\n",
      "            \"reordering_type\": \"NONE\",\n",
      "            \"stride\": [1,1,1],\n",
      "            \"uid\": 3,\n",
      "            \"uid_assigned\": true\n",
      "        },\n",
      "        \"output\": {\n",
      "            \"data_type\": \"HALF\",\n",
      "            \"dim\": [],\n",
      "            \"is_pass_by_value\": false,\n",
      "            \"is_virtual\": false,\n",
      "            \"name\": \"output\",\n",
      "            \"pass_by_value\": null,\n",
      "            \"reordering_type\": \"NONE\",\n",
      "            \"stride\": [],\n",
      "            \"uid\": 4,\n",
      "            \"uid_assigned\": true\n",
      "        },\n",
      "        \"scale\": {\n",
      "            \"data_type\": \"HALF\",\n",
      "            \"dim\": [4,1,768],\n",
      "            \"is_pass_by_value\": false,\n",
      "            \"is_virtual\": false,\n",
      "            \"name\": \"scale\",\n",
      "            \"pass_by_value\": null,\n",
      "            \"reordering_type\": \"NONE\",\n",
      "            \"stride\": [768,1,1],\n",
      "            \"uid\": 1,\n",
      "            \"uid_assigned\": true\n",
      "        }\n",
      "    }\n",
      "}\n"
     ]
    }
   ],
   "source": [
    "# Create the cuDNN graph.\n",
    "graph = cudnn.pygraph(\n",
    "    handle=handle,\n",
    "    intermediate_data_type=cudnn.data_type.FLOAT,\n",
    "    compute_data_type=cudnn.data_type.FLOAT,\n",
    ")\n",
    "\n",
    "# Create tensor handles with the graph API, assign UIDs.\n",
    "x = graph.tensor_like(x_gpu.detach()).set_name(\"X\").set_uid(UID.X.value)\n",
    "scale = graph.tensor_like(scale_gpu.detach()).set_name(\"scale\").set_uid(UID.SCALE.value)\n",
    "bias = graph.tensor_like(bias_gpu.detach()).set_name(\"bias\").set_uid(UID.BIAS.value)\n",
    "epsilon = graph.tensor_like(epsilon_cpu).set_name(\"epsilon\").set_uid(UID.EPSILON.value)\n",
    "\n",
    "# Add a layernorm operation\n",
    "(out, _, _) = graph.adalayernorm(\n",
    "    name=\"ADALN\",\n",
    "    input=x,\n",
    "    norm_forward_phase=cudnn.norm_forward_phase.INFERENCE,\n",
    "    scale=scale,\n",
    "    bias=bias,\n",
    "    epsilon=epsilon,\n",
    ")\n",
    "\n",
    "# Enable all outputs, by default outputs are disabled\n",
    "out.set_name(\"output\").set_output(True).set_data_type(out_expected.dtype).set_uid(\n",
    "    UID.OUT.value\n",
    ")\n",
    "print(graph)"
   ]
  },
  {
   "cell_type": "markdown",
   "metadata": {},
   "source": [
    "#### Build the graph"
   ]
  },
  {
   "cell_type": "code",
   "execution_count": 9,
   "metadata": {},
   "outputs": [],
   "source": [
    "# Build the graph\n",
    "graph.build([cudnn.heur_mode.A, cudnn.heur_mode.FALLBACK])\n",
    "\n",
    "# To run this block more than once, we need to re-run the previous block to get a new graph.\n",
    "# The same instance of a graph can not be built twice."
   ]
  },
  {
   "cell_type": "markdown",
   "metadata": {},
   "source": [
    "#### Execute the graph"
   ]
  },
  {
   "cell_type": "markdown",
   "metadata": {},
   "source": [
    "After validating and building a cuDNN graph,  we can now execute it. To do this, we have to provide input and output buffers. We do this by using the previously allocated UIDs to associate between tensor handles generated from the graph API, and their underlying memory. \n",
    "\n",
    "The desired input values need to be stored in these buffers before the `graph.execute` call. Because we have done a reference computation, we can simply reuse the buffers we have allocated via PyTorch.\n",
    "\n",
    "Note that the EPISLON UID expects a cpu buffer, "
   ]
  },
  {
   "cell_type": "code",
   "execution_count": 10,
   "metadata": {},
   "outputs": [],
   "source": [
    "# Mapping of (UIDs -> memory)\n",
    "variant_pack = {\n",
    "    UID.X.value: x_gpu,\n",
    "    UID.SCALE.value: scale_gpu,\n",
    "    UID.BIAS.value: bias_gpu,\n",
    "    UID.EPSILON.value: epsilon_cpu,\n",
    "    UID.OUT.value: out_gpu,\n",
    "}\n",
    "\n",
    "workspace = torch.empty(graph.get_workspace_size(), device=\"cuda\", dtype=torch.uint8)\n",
    "graph.execute(variant_pack, workspace)"
   ]
  },
  {
   "cell_type": "markdown",
   "metadata": {},
   "source": [
    "Test cuDNN's output against PyTorch's and check correctness"
   ]
  },
  {
   "cell_type": "code",
   "execution_count": 11,
   "metadata": {},
   "outputs": [],
   "source": [
    "torch.cuda.synchronize()\n",
    "\n",
    "# compare to reference output\n",
    "torch.testing.assert_close(out_gpu, out_expected, rtol=5e-3, atol=5e-3)"
   ]
  },
  {
   "cell_type": "markdown",
   "metadata": {},
   "source": [
    "Perform Cleanup"
   ]
  },
  {
   "cell_type": "code",
   "execution_count": 12,
   "metadata": {},
   "outputs": [],
   "source": [
    "cudnn.destroy_handle(handle)"
   ]
  },
  {
   "cell_type": "code",
   "execution_count": null,
   "metadata": {},
   "outputs": [],
   "source": []
  }
 ],
 "metadata": {
  "kernelspec": {
   "display_name": "Python 3 (ipykernel)",
   "language": "python",
   "name": "python3"
  },
  "language_info": {
   "codemirror_mode": {
    "name": "ipython",
    "version": 3
   },
   "file_extension": ".py",
   "mimetype": "text/x-python",
   "name": "python",
   "nbconvert_exporter": "python",
   "pygments_lexer": "ipython3",
   "version": "3.10.12"
  }
 },
 "nbformat": 4,
 "nbformat_minor": 4
}
